{
 "cells": [
  {
   "cell_type": "markdown",
   "id": "00488187",
   "metadata": {},
   "source": [
    "# SPAM\n"
   ]
  },
  {
   "cell_type": "code",
   "execution_count": 1,
   "id": "e1f473d7",
   "metadata": {},
   "outputs": [],
   "source": [
    "import sqlite3\n",
    "import requests  # To get the pages\n",
    "import hashlib\n",
    "import re\n",
    "\n",
    "# from bs4 import BeautifulSoup # and to process them\n",
    "\n",
    "con = sqlite3.connect(\"spam.db\")\n",
    "cur = con.cursor()\n"
   ]
  },
  {
   "cell_type": "markdown",
   "id": "c8b76f8d",
   "metadata": {},
   "source": [
    "## Globals"
   ]
  },
  {
   "cell_type": "code",
   "execution_count": 2,
   "id": "006226ed",
   "metadata": {},
   "outputs": [],
   "source": [
    "base_url = \"http://web.mit.edu/jync/www/spam/\"\n",
    "extension = \".html\""
   ]
  },
  {
   "cell_type": "markdown",
   "id": "cebe7cd5",
   "metadata": {},
   "source": [
    "## Scraper Table"
   ]
  },
  {
   "cell_type": "code",
   "execution_count": 3,
   "id": "47d52766",
   "metadata": {},
   "outputs": [],
   "source": [
    "st = cur.execute(\"CREATE TABLE IF NOT EXISTS \\\"url_cache\\\" (\\\n",
    "\t\\\"hash\\\"\tTEXT,\\\n",
    "\t\\\"text\\\"\tTEXT\\\n",
    ");\")\n"
   ]
  },
  {
   "cell_type": "markdown",
   "id": "94cb871f",
   "metadata": {},
   "source": [
    "## Poem Table"
   ]
  },
  {
   "cell_type": "code",
   "execution_count": 4,
   "id": "ba587242",
   "metadata": {},
   "outputs": [
    {
     "name": "stdout",
     "output_type": "stream",
     "text": [
      "<sqlite3.Cursor object at 0x7f92a5011880>\n"
     ]
    }
   ],
   "source": [
    "# pt = cur.execute(\"DROP TABLE poems;\")\n",
    "\n",
    "pt = cur.execute(\"CREATE TABLE IF NOT EXISTS \\\"poems\\\" (\\\n",
    "\t\\\"id\\\"\tINTEGER UNIQUE,\\\n",
    "\t\\\"line_1\\\"\tTEXT,\\\n",
    "\t\\\"line_2\\\"\tTEXT,\\\n",
    "\t\\\"line_3\\\"\tTEXT,\\\n",
    "\t\\\"author\\\"\tTEXT\\\n",
    ");\")\n",
    "print(pt)"
   ]
  },
  {
   "cell_type": "markdown",
   "id": "2c226317",
   "metadata": {},
   "source": [
    "# Scraper"
   ]
  },
  {
   "cell_type": "code",
   "execution_count": 7,
   "id": "4dfd5b0e",
   "metadata": {},
   "outputs": [],
   "source": [
    "for i in range ( 1001,19601,100 ) :\n",
    "    url = base_url + str(i) + \"-\" + str(i + 99) + extension\n",
    "    # print(url)\n",
    "    \n",
    "    ID = i\n",
    "    hash = hashlib.md5(url.encode()).hexdigest()\n",
    "    \n",
    "    # https://stackoverflow.com/a/9756276\n",
    "    res = cur.execute(\"SELECT EXISTS(SELECT 1 FROM url_cache WHERE hash='\"+hash+\"');\").fetchone()[0]\n",
    "    \n",
    "    if res == 0 :\n",
    "        r = requests.get(url)\n",
    "        text = r.text\n",
    "        cur.execute(\"INSERT INTO url_cache VALUES ( ?, ?)\", ( hash, text ) )\n",
    "        # print(hash)\n",
    "\n",
    "    else :\n",
    "        # print(hash)\n",
    "        continue \n",
    "        \n",
    "con.commit()"
   ]
  },
  {
   "cell_type": "code",
   "execution_count": null,
   "id": "b6714033",
   "metadata": {},
   "outputs": [],
   "source": []
  },
  {
   "cell_type": "code",
   "execution_count": 8,
   "id": "8bda8100",
   "metadata": {},
   "outputs": [],
   "source": [
    "for i in range ( 1001,19601,100 ) :\n",
    "    url = base_url + str(i) + \"-\" + str(i + 99) + extension\n",
    "    # print(url)\n",
    "    \n",
    "    ID = i\n",
    "    hash = hashlib.md5(url.encode()).hexdigest()\n",
    "    # print(hash)\n",
    "    res = cur.execute(\"SELECT text FROM url_cache WHERE `hash` = '\" + hash + \"'\" )\n",
    "    text = res.fetchone()[0]\n",
    "    \n",
    "    # print(len(text))\n",
    "    matches = re.findall(r\"<SPAN .*\\n.*\\n.*\\n.*\\n.*\\n.*\\n.*<P>\",text)\n",
    "    \n",
    "    for match in matches :\n",
    "        # Found some matches\n",
    "        # print( match )\n",
    "        groups = re.findall(r\"<SPAN CLASS='Number'>(.*)\\.</SPAN><BR>\\n.*\\n(.*)<BR>\\n(.*)<BR>\\n(.*)<BR>\\n.*\\n.*>--(.*)</ADDRESS><P>\", match)[0]\n",
    "        \n",
    "        if len( groups) == 5 :\n",
    "            # https://stackoverflow.com/a/4869782\n",
    "\n",
    "            poem_values = [ int(groups[0]), \n",
    "                           re.sub('<[^>]*>', '', groups[1]), \n",
    "                           re.sub('<[^>]*>', '', groups[2]),\n",
    "                           re.sub('<[^>]*>', '', groups[3]),\n",
    "                           re.sub('<[^>]*>', '', groups[4]),]\n",
    "            # print(poem_values)\n",
    "\n",
    "            insert_results = cur.execute(\"INSERT OR REPLACE INTO poems VALUES ( ?, ?, ?, ?, ? )\", poem_values )\n",
    "            # print(insert_results)\n",
    "        else :\n",
    "            print(len(groups))\n",
    "    # break\n",
    "\n",
    "con.commit()"
   ]
  },
  {
   "cell_type": "code",
   "execution_count": null,
   "id": "f414ecbb",
   "metadata": {},
   "outputs": [],
   "source": []
  },
  {
   "cell_type": "code",
   "execution_count": 157,
   "id": "39033f20",
   "metadata": {},
   "outputs": [],
   "source": [
    "con.close()"
   ]
  },
  {
   "cell_type": "markdown",
   "id": "eac3a46d",
   "metadata": {},
   "source": [
    "---"
   ]
  },
  {
   "cell_type": "code",
   "execution_count": 25,
   "id": "64415aaf",
   "metadata": {},
   "outputs": [],
   "source": [
    "import pyphen\n",
    "import syllapy\n",
    "from collections import defaultdict"
   ]
  },
  {
   "cell_type": "code",
   "execution_count": 4,
   "id": "50b8f781",
   "metadata": {},
   "outputs": [],
   "source": [
    "text = \"\"\"\n",
    "The two columns with Tags in their labels allow you to sort and search cases by each of several additional \n",
    "characteristics. \n",
    "To see more detailed definitions for some of these terms, hover over their full names or click on the links:\n",
    "\n",
    "\n",
    "\n",
    "\"\"\""
   ]
  },
  {
   "cell_type": "code",
   "execution_count": 5,
   "id": "7236f0b3",
   "metadata": {
    "scrolled": true
   },
   "outputs": [
    {
     "data": {
      "text/plain": [
       "'\\nThe t-wo -columns with Tag-s in -their la-bels al-low y-ou to sort and search case-s by each of -sever-al ad-di-tion-al \\nchar-ac-ter-ist-ic-s. \\nTo see -more -de-tailed defin-i-tion-s -for -some of these term-s, hover- over- -their -full -names or click- on the link-s:\\n\\n\\n\\n'"
      ]
     },
     "execution_count": 5,
     "metadata": {},
     "output_type": "execute_result"
    }
   ],
   "source": [
    "dic = pyphen.Pyphen(lang='en')\n",
    "dic.inserted(text)"
   ]
  },
  {
   "cell_type": "code",
   "execution_count": 8,
   "id": "8a4e14e0",
   "metadata": {},
   "outputs": [],
   "source": [
    "count = syllapy.count('additional')"
   ]
  },
  {
   "cell_type": "code",
   "execution_count": 9,
   "id": "10de6a0b",
   "metadata": {},
   "outputs": [
    {
     "data": {
      "text/plain": [
       "4"
      ]
     },
     "execution_count": 9,
     "metadata": {},
     "output_type": "execute_result"
    }
   ],
   "source": [
    "count"
   ]
  },
  {
   "cell_type": "code",
   "execution_count": 11,
   "id": "700a58f9",
   "metadata": {
    "scrolled": true
   },
   "outputs": [
    {
     "name": "stdout",
     "output_type": "stream",
     "text": [
      "for the word The, we have 1 syllables.\n",
      "for the word two, we have 1 syllables.\n",
      "for the word columns, we have 2 syllables.\n",
      "for the word with, we have 1 syllables.\n",
      "for the word Tags, we have 1 syllables.\n",
      "for the word in, we have 1 syllables.\n",
      "for the word their, we have 1 syllables.\n",
      "for the word labels, we have 2 syllables.\n",
      "for the word allow, we have 2 syllables.\n",
      "for the word you, we have 1 syllables.\n",
      "for the word to, we have 1 syllables.\n",
      "for the word sort, we have 1 syllables.\n",
      "for the word and, we have 1 syllables.\n",
      "for the word search, we have 1 syllables.\n",
      "for the word cases, we have 2 syllables.\n",
      "for the word by, we have 1 syllables.\n",
      "for the word each, we have 1 syllables.\n",
      "for the word of, we have 1 syllables.\n",
      "for the word several, we have 3 syllables.\n",
      "for the word additional, we have 4 syllables.\n",
      "for the word characteristics., we have 5 syllables.\n",
      "for the word To, we have 1 syllables.\n",
      "for the word see, we have 1 syllables.\n",
      "for the word more, we have 1 syllables.\n",
      "for the word detailed, we have 2 syllables.\n",
      "for the word definitions, we have 4 syllables.\n",
      "for the word for, we have 1 syllables.\n",
      "for the word some, we have 1 syllables.\n",
      "for the word of, we have 1 syllables.\n",
      "for the word these, we have 1 syllables.\n",
      "for the word terms,, we have 1 syllables.\n",
      "for the word hover, we have 2 syllables.\n",
      "for the word over, we have 2 syllables.\n",
      "for the word their, we have 1 syllables.\n",
      "for the word full, we have 1 syllables.\n",
      "for the word names, we have 1 syllables.\n",
      "for the word or, we have 1 syllables.\n",
      "for the word click, we have 1 syllables.\n",
      "for the word on, we have 1 syllables.\n",
      "for the word the, we have 1 syllables.\n",
      "for the word links:, we have 1 syllables.\n"
     ]
    }
   ],
   "source": [
    "for word in text.split() :\n",
    "    print(f\"for the word {word}, we have {syllapy.count(word)} syllables.\")"
   ]
  },
  {
   "cell_type": "code",
   "execution_count": 17,
   "id": "367aa610",
   "metadata": {
    "scrolled": true
   },
   "outputs": [
    {
     "name": "stdout",
     "output_type": "stream",
     "text": [
      "word\n",
      "word\n",
      "word\n",
      "word\n",
      "word\n",
      "word\n",
      "word\n",
      "word\n",
      "word\n",
      "word\n",
      "word\n",
      "word\n",
      "word\n",
      "word\n",
      "word\n",
      "word\n",
      "word\n",
      "word\n",
      "word\n",
      "word\n",
      "word\n",
      "word\n",
      "word\n",
      "word\n",
      "word\n",
      "word\n",
      "word\n",
      "word\n",
      "word\n",
      "word\n",
      "word\n",
      "word\n",
      "word\n",
      "word\n",
      "word\n",
      "word\n",
      "word\n",
      "word\n",
      "word\n",
      "word\n",
      "word\n"
     ]
    }
   ],
   "source": [
    "for word in text.split() :\n",
    "    print('word')\n",
    "    print(word)"
   ]
  },
  {
   "cell_type": "code",
   "execution_count": 29,
   "id": "9cb18b29",
   "metadata": {},
   "outputs": [],
   "source": [
    "haiku = \"\"\"\n",
    "An old silent pond\n",
    "A frog jumps into the pond—\n",
    "Splash! Silence again.\n",
    "\"\"\"\n",
    "\n",
    "\n",
    "haiku= \"\"\"\n",
    "A world of dew,\n",
    "And within every dewdrop\n",
    "A world of struggle.\n",
    "\n",
    "\n",
    "\"\"\""
   ]
  },
  {
   "cell_type": "code",
   "execution_count": 30,
   "id": "da060af6",
   "metadata": {},
   "outputs": [],
   "source": [
    "lines = haiku.split(\"\\n\")"
   ]
  },
  {
   "cell_type": "code",
   "execution_count": 31,
   "id": "65f4dc6f",
   "metadata": {},
   "outputs": [],
   "source": [
    "lines = [line for line in lines if line]"
   ]
  },
  {
   "cell_type": "code",
   "execution_count": 32,
   "id": "efd6402c",
   "metadata": {},
   "outputs": [
    {
     "data": {
      "text/plain": [
       "['A world of dew,', 'And within every dewdrop', 'A world of struggle.']"
      ]
     },
     "execution_count": 32,
     "metadata": {},
     "output_type": "execute_result"
    }
   ],
   "source": [
    "lines"
   ]
  },
  {
   "cell_type": "code",
   "execution_count": 40,
   "id": "f05d77c5",
   "metadata": {},
   "outputs": [],
   "source": [
    "syllable_counts = defaultdict(int)"
   ]
  },
  {
   "cell_type": "code",
   "execution_count": 41,
   "id": "9c9f3eda",
   "metadata": {},
   "outputs": [],
   "source": [
    "for line in lines :\n",
    "    for word in line.split() :\n",
    "        syllable_counts[line]+= syllapy.count(word)"
   ]
  },
  {
   "cell_type": "code",
   "execution_count": 43,
   "id": "db6a5488",
   "metadata": {},
   "outputs": [
    {
     "data": {
      "text/plain": [
       "(4, 7, 5)"
      ]
     },
     "execution_count": 43,
     "metadata": {},
     "output_type": "execute_result"
    }
   ],
   "source": [
    "#add tuples to show full analysis \n",
    "tuple(syllable_counts.values())"
   ]
  },
  {
   "cell_type": "code",
   "execution_count": 39,
   "id": "67ac0741",
   "metadata": {},
   "outputs": [
    {
     "data": {
      "text/plain": [
       "defaultdict(int,\n",
       "            {'A world of dew,': 4,\n",
       "             'And within every dewdrop': 7,\n",
       "             'A world of struggle.': 5})"
      ]
     },
     "execution_count": 39,
     "metadata": {},
     "output_type": "execute_result"
    }
   ],
   "source": [
    "syllable_counts"
   ]
  },
  {
   "cell_type": "code",
   "execution_count": null,
   "id": "e6f57546",
   "metadata": {},
   "outputs": [],
   "source": [
    "#look at patterns, potentially take 10K and analyze "
   ]
  }
 ],
 "metadata": {
  "kernelspec": {
   "display_name": "Python 3 (ipykernel)",
   "language": "python",
   "name": "python3"
  },
  "language_info": {
   "codemirror_mode": {
    "name": "ipython",
    "version": 3
   },
   "file_extension": ".py",
   "mimetype": "text/x-python",
   "name": "python",
   "nbconvert_exporter": "python",
   "pygments_lexer": "ipython3",
   "version": "3.7.3"
  }
 },
 "nbformat": 4,
 "nbformat_minor": 5
}
